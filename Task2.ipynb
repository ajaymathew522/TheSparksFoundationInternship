{
  "nbformat": 4,
  "nbformat_minor": 0,
  "metadata": {
    "colab": {
      "name": "Task2.ipynb",
      "provenance": [],
      "authorship_tag": "ABX9TyMypBuDw7kElpHYWo66p79Z",
      "include_colab_link": true
    },
    "kernelspec": {
      "name": "python3",
      "display_name": "Python 3"
    }
  },
  "cells": [
    {
      "cell_type": "markdown",
      "metadata": {
        "id": "view-in-github",
        "colab_type": "text"
      },
      "source": [
        "<a href=\"https://colab.research.google.com/github/ajaymathew522/TheSparksFoundationInternship/blob/master/Task2.ipynb\" target=\"_parent\"><img src=\"https://colab.research.google.com/assets/colab-badge.svg\" alt=\"Open In Colab\"/></a>"
      ]
    },
    {
      "cell_type": "markdown",
      "metadata": {
        "id": "fnNJv-eNZTU7",
        "colab_type": "text"
      },
      "source": [
        "Importing required Libraries."
      ]
    },
    {
      "cell_type": "code",
      "metadata": {
        "id": "NEaGXOyYKrCM",
        "colab_type": "code",
        "colab": {}
      },
      "source": [
        "import pandas as pd\n",
        "import matplotlib.pyplot as plt\n",
        "from sklearn.linear_model import LinearRegression\n",
        "from sklearn.preprocessing import StandardScaler\n",
        "from sklearn.model_selection import train_test_split, GridSearchCV\n",
        "import numpy as np\n"
      ],
      "execution_count": null,
      "outputs": []
    },
    {
      "cell_type": "markdown",
      "metadata": {
        "id": "0OEDoPKkZX0f",
        "colab_type": "text"
      },
      "source": [
        "Reading data."
      ]
    },
    {
      "cell_type": "code",
      "metadata": {
        "id": "_YWVNF5eK7Br",
        "colab_type": "code",
        "colab": {
          "base_uri": "https://localhost:8080/",
          "height": 204
        },
        "outputId": "774c98b7-9177-4c0f-c317-143dc52097a8"
      },
      "source": [
        "data = pd.read_csv('https://raw.githubusercontent.com/AdiPersonalWorks/Random/master/student_scores%20-%20student_scores.csv')\n",
        "data.head()"
      ],
      "execution_count": null,
      "outputs": [
        {
          "output_type": "execute_result",
          "data": {
            "text/html": [
              "<div>\n",
              "<style scoped>\n",
              "    .dataframe tbody tr th:only-of-type {\n",
              "        vertical-align: middle;\n",
              "    }\n",
              "\n",
              "    .dataframe tbody tr th {\n",
              "        vertical-align: top;\n",
              "    }\n",
              "\n",
              "    .dataframe thead th {\n",
              "        text-align: right;\n",
              "    }\n",
              "</style>\n",
              "<table border=\"1\" class=\"dataframe\">\n",
              "  <thead>\n",
              "    <tr style=\"text-align: right;\">\n",
              "      <th></th>\n",
              "      <th>Hours</th>\n",
              "      <th>Scores</th>\n",
              "    </tr>\n",
              "  </thead>\n",
              "  <tbody>\n",
              "    <tr>\n",
              "      <th>0</th>\n",
              "      <td>2.5</td>\n",
              "      <td>21</td>\n",
              "    </tr>\n",
              "    <tr>\n",
              "      <th>1</th>\n",
              "      <td>5.1</td>\n",
              "      <td>47</td>\n",
              "    </tr>\n",
              "    <tr>\n",
              "      <th>2</th>\n",
              "      <td>3.2</td>\n",
              "      <td>27</td>\n",
              "    </tr>\n",
              "    <tr>\n",
              "      <th>3</th>\n",
              "      <td>8.5</td>\n",
              "      <td>75</td>\n",
              "    </tr>\n",
              "    <tr>\n",
              "      <th>4</th>\n",
              "      <td>3.5</td>\n",
              "      <td>30</td>\n",
              "    </tr>\n",
              "  </tbody>\n",
              "</table>\n",
              "</div>"
            ],
            "text/plain": [
              "   Hours  Scores\n",
              "0    2.5      21\n",
              "1    5.1      47\n",
              "2    3.2      27\n",
              "3    8.5      75\n",
              "4    3.5      30"
            ]
          },
          "metadata": {
            "tags": []
          },
          "execution_count": 2
        }
      ]
    },
    {
      "cell_type": "markdown",
      "metadata": {
        "id": "bz33UIo1ZbQc",
        "colab_type": "text"
      },
      "source": [
        "Splitting dataframe so that X is the independent varible and y is the dependent variable."
      ]
    },
    {
      "cell_type": "code",
      "metadata": {
        "id": "uXxN7iPdWUKT",
        "colab_type": "code",
        "colab": {}
      },
      "source": [
        "X = data.iloc[:,:-1].values\n",
        "y = data.iloc[:,1:].values "
      ],
      "execution_count": null,
      "outputs": []
    },
    {
      "cell_type": "markdown",
      "metadata": {
        "id": "VybW82qaZpqd",
        "colab_type": "text"
      },
      "source": [
        "Plotting the data. On examining the graph we can clearly see a linear relationship between the number of hours studied and marks obtained."
      ]
    },
    {
      "cell_type": "code",
      "metadata": {
        "id": "e0gGxgUuYWIc",
        "colab_type": "code",
        "colab": {
          "base_uri": "https://localhost:8080/",
          "height": 265
        },
        "outputId": "55c984e9-3e9b-4c36-fd27-c36e3c13e4ed"
      },
      "source": [
        "plt.scatter(X,y)\n",
        "plt.show()"
      ],
      "execution_count": null,
      "outputs": [
        {
          "output_type": "display_data",
          "data": {
            "image/png": "[encoded data removed]",
            "text/plain": [
              "<Figure size 432x288 with 1 Axes>"
            ]
          },
          "metadata": {
            "tags": [],
            "needs_background": "light"
          }
        }
      ]
    },
    {
      "cell_type": "markdown",
      "metadata": {
        "id": "Wx5kPBynaAnw",
        "colab_type": "text"
      },
      "source": [
        "Splitting the data into train and test sets."
      ]
    },
    {
      "cell_type": "code",
      "metadata": {
        "id": "xlj8PBbVLA7g",
        "colab_type": "code",
        "colab": {}
      },
      "source": [
        "X_train, X_test, y_train , y_test =  train_test_split(X, y, test_size=.2, random_state=0)"
      ],
      "execution_count": null,
      "outputs": []
    },
    {
      "cell_type": "markdown",
      "metadata": {
        "id": "n2HvBeXQajwZ",
        "colab_type": "text"
      },
      "source": [
        "Declaring a dictionary to be used in gridsearchcv."
      ]
    },
    {
      "cell_type": "code",
      "metadata": {
        "id": "Ky9ArcltVUug",
        "colab_type": "code",
        "colab": {}
      },
      "source": [
        "p_grid = {'fit_intercept':[True, False],'normalize':[True, False],'copy_X':[True, False]}"
      ],
      "execution_count": null,
      "outputs": []
    },
    {
      "cell_type": "markdown",
      "metadata": {
        "id": "YZAt6zL7atxx",
        "colab_type": "text"
      },
      "source": [
        "Creating a gridsearchcv model with linear regression as its estimator."
      ]
    },
    {
      "cell_type": "code",
      "metadata": {
        "id": "-202qH66LzlS",
        "colab_type": "code",
        "colab": {}
      },
      "source": [
        "model = GridSearchCV(LinearRegression(), param_grid=p_grid, refit=True, cv=5)\n"
      ],
      "execution_count": null,
      "outputs": []
    },
    {
      "cell_type": "markdown",
      "metadata": {
        "id": "jX4cWzs6a7cg",
        "colab_type": "text"
      },
      "source": [
        "Fitting the model to the train data."
      ]
    },
    {
      "cell_type": "code",
      "metadata": {
        "id": "9Lw_jex1M-KZ",
        "colab_type": "code",
        "colab": {
          "base_uri": "https://localhost:8080/",
          "height": 34
        },
        "outputId": "9b8a0e90-eb35-4a52-c29f-d2b1f988cb50"
      },
      "source": [
        "model.fit(X_train, y_train)\n",
        "model.best_estimator_.coef_"
      ],
      "execution_count": null,
      "outputs": [
        {
          "output_type": "execute_result",
          "data": {
            "text/plain": [
              "array([[10.22505649]])"
            ]
          },
          "metadata": {
            "tags": []
          },
          "execution_count": 124
        }
      ]
    },
    {
      "cell_type": "markdown",
      "metadata": {
        "id": "cCJ4l9MVbAIL",
        "colab_type": "text"
      },
      "source": [
        "Predicting using the test data."
      ]
    },
    {
      "cell_type": "code",
      "metadata": {
        "id": "t13s7ZdCNnXz",
        "colab_type": "code",
        "colab": {}
      },
      "source": [
        "y_pred = model.predict(X_test)"
      ],
      "execution_count": null,
      "outputs": []
    },
    {
      "cell_type": "markdown",
      "metadata": {
        "id": "AzVTwuXrbFaf",
        "colab_type": "text"
      },
      "source": [
        "importing mean_squared_error to be used in evalutaing the model."
      ]
    },
    {
      "cell_type": "code",
      "metadata": {
        "id": "w0E2640GMzoI",
        "colab_type": "code",
        "colab": {}
      },
      "source": [
        "from sklearn.metrics import mean_squared_error"
      ],
      "execution_count": null,
      "outputs": []
    },
    {
      "cell_type": "markdown",
      "metadata": {
        "id": "9WoyMbG1bL7d",
        "colab_type": "text"
      },
      "source": [
        "Finding the root mean squared error of our model."
      ]
    },
    {
      "cell_type": "code",
      "metadata": {
        "id": "2CvoRZphN6Hy",
        "colab_type": "code",
        "colab": {
          "base_uri": "https://localhost:8080/",
          "height": 34
        },
        "outputId": "f7bf8771-7835-4952-e387-7333c6c0ce4a"
      },
      "source": [
        "np.sqrt(mean_squared_error(y_test, y_pred))"
      ],
      "execution_count": null,
      "outputs": [
        {
          "output_type": "execute_result",
          "data": {
            "text/plain": [
              "4.926919438221814"
            ]
          },
          "metadata": {
            "tags": []
          },
          "execution_count": 126
        }
      ]
    },
    {
      "cell_type": "markdown",
      "metadata": {
        "id": "KQUVB-aYboSQ",
        "colab_type": "text"
      },
      "source": [
        "Predicting the mark of the student when he/she studied for 9.5 hours."
      ]
    },
    {
      "cell_type": "code",
      "metadata": {
        "id": "jO5rWVScbbsR",
        "colab_type": "code",
        "colab": {
          "base_uri": "https://localhost:8080/",
          "height": 34
        },
        "outputId": "85f6dc6f-de48-4f8b-e98f-2f1c91ed7425"
      },
      "source": [
        "model.predict(np.array(9.5).reshape(-1,1))"
      ],
      "execution_count": null,
      "outputs": [
        {
          "output_type": "execute_result",
          "data": {
            "text/plain": [
              "array([[97.13803663]])"
            ]
          },
          "metadata": {
            "tags": []
          },
          "execution_count": 128
        }
      ]
    },
    {
      "cell_type": "markdown",
      "metadata": {
        "id": "m7EFpg6ubSW0",
        "colab_type": "text"
      },
      "source": [
        "Plotting the data with the linear regressor we created."
      ]
    },
    {
      "cell_type": "code",
      "metadata": {
        "id": "ZsYcyXJDOamR",
        "colab_type": "code",
        "colab": {
          "base_uri": "https://localhost:8080/",
          "height": 279
        },
        "outputId": "b12625a0-3925-4673-c415-7b984343fb03"
      },
      "source": [
        "data.plot(kind='scatter', x='Hours', y='Scores')\n",
        "plt.plot(X, X*model.best_estimator_.coef_ + model.best_estimator_.intercept_  )\n",
        "plt.show()"
      ],
      "execution_count": null,
      "outputs": [
        {
          "output_type": "display_data",
          "data": {
            "image/png": "[encoded data removed]",
            "text/plain": [
              "<Figure size 432x288 with 1 Axes>"
            ]
          },
          "metadata": {
            "tags": [],
            "needs_background": "light"
          }
        }
      ]
    }
  ]
}