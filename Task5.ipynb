{
  "nbformat": 4,
  "nbformat_minor": 0,
  "metadata": {
    "colab": {
      "name": "Task5.ipynb",
      "provenance": [],
      "authorship_tag": "ABX9TyNzLAkOH17tXRjUMKcVBSrk",
      "include_colab_link": true
    },
    "kernelspec": {
      "name": "python3",
      "display_name": "Python 3"
    }
  },
  "cells": [
    {
      "cell_type": "markdown",
      "metadata": {
        "id": "view-in-github",
        "colab_type": "text"
      },
      "source": [
        "<a href=\"https://colab.research.google.com/github/ajaymathew522/TheSparksFoundationInternship/blob/master/Task5.ipynb\" target=\"_parent\"><img src=\"https://colab.research.google.com/assets/colab-badge.svg\" alt=\"Open In Colab\"/></a>"
      ]
    },
    {
      "cell_type": "markdown",
      "metadata": {
        "id": "JW2x05S8QK98",
        "colab_type": "text"
      },
      "source": [
        "Importing necessary libraries"
      ]
    },
    {
      "cell_type": "code",
      "metadata": {
        "id": "GKIthLkXxDbC",
        "colab_type": "code",
        "colab": {}
      },
      "source": [
        "import pandas as pd\n",
        "import matplotlib.pyplot as plt\n",
        "import seaborn as sns"
      ],
      "execution_count": 1,
      "outputs": []
    },
    {
      "cell_type": "markdown",
      "metadata": {
        "id": "ylTeIgxzQP02",
        "colab_type": "text"
      },
      "source": [
        "Reading the data"
      ]
    },
    {
      "cell_type": "code",
      "metadata": {
        "id": "8Wog5O4axO3b",
        "colab_type": "code",
        "colab": {
          "base_uri": "https://localhost:8080/",
          "height": 204
        },
        "outputId": "4f120197-4151-47b1-8d76-ea17021eab26"
      },
      "source": [
        "data = pd.read_csv('/content/SampleSuperstore.csv')\n",
        "data.head()"
      ],
      "execution_count": 2,
      "outputs": [
        {
          "output_type": "execute_result",
          "data": {
            "text/html": [
              "<div>\n",
              "<style scoped>\n",
              "    .dataframe tbody tr th:only-of-type {\n",
              "        vertical-align: middle;\n",
              "    }\n",
              "\n",
              "    .dataframe tbody tr th {\n",
              "        vertical-align: top;\n",
              "    }\n",
              "\n",
              "    .dataframe thead th {\n",
              "        text-align: right;\n",
              "    }\n",
              "</style>\n",
              "<table border=\"1\" class=\"dataframe\">\n",
              "  <thead>\n",
              "    <tr style=\"text-align: right;\">\n",
              "      <th></th>\n",
              "      <th>Ship Mode</th>\n",
              "      <th>Segment</th>\n",
              "      <th>Country</th>\n",
              "      <th>City</th>\n",
              "      <th>State</th>\n",
              "      <th>Postal Code</th>\n",
              "      <th>Region</th>\n",
              "      <th>Category</th>\n",
              "      <th>Sub-Category</th>\n",
              "      <th>Sales</th>\n",
              "      <th>Quantity</th>\n",
              "      <th>Discount</th>\n",
              "      <th>Profit</th>\n",
              "    </tr>\n",
              "  </thead>\n",
              "  <tbody>\n",
              "    <tr>\n",
              "      <th>0</th>\n",
              "      <td>Second Class</td>\n",
              "      <td>Consumer</td>\n",
              "      <td>United States</td>\n",
              "      <td>Henderson</td>\n",
              "      <td>Kentucky</td>\n",
              "      <td>42420</td>\n",
              "      <td>South</td>\n",
              "      <td>Furniture</td>\n",
              "      <td>Bookcases</td>\n",
              "      <td>261.9600</td>\n",
              "      <td>2</td>\n",
              "      <td>0.00</td>\n",
              "      <td>41.9136</td>\n",
              "    </tr>\n",
              "    <tr>\n",
              "      <th>1</th>\n",
              "      <td>Second Class</td>\n",
              "      <td>Consumer</td>\n",
              "      <td>United States</td>\n",
              "      <td>Henderson</td>\n",
              "      <td>Kentucky</td>\n",
              "      <td>42420</td>\n",
              "      <td>South</td>\n",
              "      <td>Furniture</td>\n",
              "      <td>Chairs</td>\n",
              "      <td>731.9400</td>\n",
              "      <td>3</td>\n",
              "      <td>0.00</td>\n",
              "      <td>219.5820</td>\n",
              "    </tr>\n",
              "    <tr>\n",
              "      <th>2</th>\n",
              "      <td>Second Class</td>\n",
              "      <td>Corporate</td>\n",
              "      <td>United States</td>\n",
              "      <td>Los Angeles</td>\n",
              "      <td>California</td>\n",
              "      <td>90036</td>\n",
              "      <td>West</td>\n",
              "      <td>Office Supplies</td>\n",
              "      <td>Labels</td>\n",
              "      <td>14.6200</td>\n",
              "      <td>2</td>\n",
              "      <td>0.00</td>\n",
              "      <td>6.8714</td>\n",
              "    </tr>\n",
              "    <tr>\n",
              "      <th>3</th>\n",
              "      <td>Standard Class</td>\n",
              "      <td>Consumer</td>\n",
              "      <td>United States</td>\n",
              "      <td>Fort Lauderdale</td>\n",
              "      <td>Florida</td>\n",
              "      <td>33311</td>\n",
              "      <td>South</td>\n",
              "      <td>Furniture</td>\n",
              "      <td>Tables</td>\n",
              "      <td>957.5775</td>\n",
              "      <td>5</td>\n",
              "      <td>0.45</td>\n",
              "      <td>-383.0310</td>\n",
              "    </tr>\n",
              "    <tr>\n",
              "      <th>4</th>\n",
              "      <td>Standard Class</td>\n",
              "      <td>Consumer</td>\n",
              "      <td>United States</td>\n",
              "      <td>Fort Lauderdale</td>\n",
              "      <td>Florida</td>\n",
              "      <td>33311</td>\n",
              "      <td>South</td>\n",
              "      <td>Office Supplies</td>\n",
              "      <td>Storage</td>\n",
              "      <td>22.3680</td>\n",
              "      <td>2</td>\n",
              "      <td>0.20</td>\n",
              "      <td>2.5164</td>\n",
              "    </tr>\n",
              "  </tbody>\n",
              "</table>\n",
              "</div>"
            ],
            "text/plain": [
              "        Ship Mode    Segment        Country  ... Quantity Discount    Profit\n",
              "0    Second Class   Consumer  United States  ...        2     0.00   41.9136\n",
              "1    Second Class   Consumer  United States  ...        3     0.00  219.5820\n",
              "2    Second Class  Corporate  United States  ...        2     0.00    6.8714\n",
              "3  Standard Class   Consumer  United States  ...        5     0.45 -383.0310\n",
              "4  Standard Class   Consumer  United States  ...        2     0.20    2.5164\n",
              "\n",
              "[5 rows x 13 columns]"
            ]
          },
          "metadata": {
            "tags": []
          },
          "execution_count": 2
        }
      ]
    },
    {
      "cell_type": "markdown",
      "metadata": {
        "id": "OVMqO6I_QSUi",
        "colab_type": "text"
      },
      "source": [
        "We can see that there are 9994 records of sale and 13 columns"
      ]
    },
    {
      "cell_type": "code",
      "metadata": {
        "id": "e5-z6BLRxkxW",
        "colab_type": "code",
        "colab": {
          "base_uri": "https://localhost:8080/",
          "height": 34
        },
        "outputId": "8cd468d3-0c62-4061-ca29-2e4dec8a326f"
      },
      "source": [
        "data.shape"
      ],
      "execution_count": 3,
      "outputs": [
        {
          "output_type": "execute_result",
          "data": {
            "text/plain": [
              "(9994, 13)"
            ]
          },
          "metadata": {
            "tags": []
          },
          "execution_count": 3
        }
      ]
    },
    {
      "cell_type": "markdown",
      "metadata": {
        "id": "8xHPnGZ1Qak9",
        "colab_type": "text"
      },
      "source": [
        "There are no columns where data is null"
      ]
    },
    {
      "cell_type": "code",
      "metadata": {
        "id": "6YVAIdEJzBEC",
        "colab_type": "code",
        "colab": {
          "base_uri": "https://localhost:8080/",
          "height": 255
        },
        "outputId": "9753a966-a551-42f6-bb86-ec05740765a0"
      },
      "source": [
        "data.isnull().sum()"
      ],
      "execution_count": 4,
      "outputs": [
        {
          "output_type": "execute_result",
          "data": {
            "text/plain": [
              "Ship Mode       0\n",
              "Segment         0\n",
              "Country         0\n",
              "City            0\n",
              "State           0\n",
              "Postal Code     0\n",
              "Region          0\n",
              "Category        0\n",
              "Sub-Category    0\n",
              "Sales           0\n",
              "Quantity        0\n",
              "Discount        0\n",
              "Profit          0\n",
              "dtype: int64"
            ]
          },
          "metadata": {
            "tags": []
          },
          "execution_count": 4
        }
      ]
    },
    {
      "cell_type": "markdown",
      "metadata": {
        "id": "AV6BLzs8QhxX",
        "colab_type": "text"
      },
      "source": [
        "Getting a grasp about the number variables in the data."
      ]
    },
    {
      "cell_type": "code",
      "metadata": {
        "id": "nJMGnU9UxqkV",
        "colab_type": "code",
        "colab": {
          "base_uri": "https://localhost:8080/",
          "height": 297
        },
        "outputId": "476714e3-9c55-4acd-909e-b887a2afdd4d"
      },
      "source": [
        "data.describe()"
      ],
      "execution_count": 5,
      "outputs": [
        {
          "output_type": "execute_result",
          "data": {
            "text/html": [
              "<div>\n",
              "<style scoped>\n",
              "    .dataframe tbody tr th:only-of-type {\n",
              "        vertical-align: middle;\n",
              "    }\n",
              "\n",
              "    .dataframe tbody tr th {\n",
              "        vertical-align: top;\n",
              "    }\n",
              "\n",
              "    .dataframe thead th {\n",
              "        text-align: right;\n",
              "    }\n",
              "</style>\n",
              "<table border=\"1\" class=\"dataframe\">\n",
              "  <thead>\n",
              "    <tr style=\"text-align: right;\">\n",
              "      <th></th>\n",
              "      <th>Postal Code</th>\n",
              "      <th>Sales</th>\n",
              "      <th>Quantity</th>\n",
              "      <th>Discount</th>\n",
              "      <th>Profit</th>\n",
              "    </tr>\n",
              "  </thead>\n",
              "  <tbody>\n",
              "    <tr>\n",
              "      <th>count</th>\n",
              "      <td>9994.000000</td>\n",
              "      <td>9994.000000</td>\n",
              "      <td>9994.000000</td>\n",
              "      <td>9994.000000</td>\n",
              "      <td>9994.000000</td>\n",
              "    </tr>\n",
              "    <tr>\n",
              "      <th>mean</th>\n",
              "      <td>55190.379428</td>\n",
              "      <td>229.858001</td>\n",
              "      <td>3.789574</td>\n",
              "      <td>0.156203</td>\n",
              "      <td>28.656896</td>\n",
              "    </tr>\n",
              "    <tr>\n",
              "      <th>std</th>\n",
              "      <td>32063.693350</td>\n",
              "      <td>623.245101</td>\n",
              "      <td>2.225110</td>\n",
              "      <td>0.206452</td>\n",
              "      <td>234.260108</td>\n",
              "    </tr>\n",
              "    <tr>\n",
              "      <th>min</th>\n",
              "      <td>1040.000000</td>\n",
              "      <td>0.444000</td>\n",
              "      <td>1.000000</td>\n",
              "      <td>0.000000</td>\n",
              "      <td>-6599.978000</td>\n",
              "    </tr>\n",
              "    <tr>\n",
              "      <th>25%</th>\n",
              "      <td>23223.000000</td>\n",
              "      <td>17.280000</td>\n",
              "      <td>2.000000</td>\n",
              "      <td>0.000000</td>\n",
              "      <td>1.728750</td>\n",
              "    </tr>\n",
              "    <tr>\n",
              "      <th>50%</th>\n",
              "      <td>56430.500000</td>\n",
              "      <td>54.490000</td>\n",
              "      <td>3.000000</td>\n",
              "      <td>0.200000</td>\n",
              "      <td>8.666500</td>\n",
              "    </tr>\n",
              "    <tr>\n",
              "      <th>75%</th>\n",
              "      <td>90008.000000</td>\n",
              "      <td>209.940000</td>\n",
              "      <td>5.000000</td>\n",
              "      <td>0.200000</td>\n",
              "      <td>29.364000</td>\n",
              "    </tr>\n",
              "    <tr>\n",
              "      <th>max</th>\n",
              "      <td>99301.000000</td>\n",
              "      <td>22638.480000</td>\n",
              "      <td>14.000000</td>\n",
              "      <td>0.800000</td>\n",
              "      <td>8399.976000</td>\n",
              "    </tr>\n",
              "  </tbody>\n",
              "</table>\n",
              "</div>"
            ],
            "text/plain": [
              "        Postal Code         Sales     Quantity     Discount       Profit\n",
              "count   9994.000000   9994.000000  9994.000000  9994.000000  9994.000000\n",
              "mean   55190.379428    229.858001     3.789574     0.156203    28.656896\n",
              "std    32063.693350    623.245101     2.225110     0.206452   234.260108\n",
              "min     1040.000000      0.444000     1.000000     0.000000 -6599.978000\n",
              "25%    23223.000000     17.280000     2.000000     0.000000     1.728750\n",
              "50%    56430.500000     54.490000     3.000000     0.200000     8.666500\n",
              "75%    90008.000000    209.940000     5.000000     0.200000    29.364000\n",
              "max    99301.000000  22638.480000    14.000000     0.800000  8399.976000"
            ]
          },
          "metadata": {
            "tags": []
          },
          "execution_count": 5
        }
      ]
    },
    {
      "cell_type": "markdown",
      "metadata": {
        "id": "rmdPO_zBeu0m",
        "colab_type": "text"
      },
      "source": [
        "#Let us First Analyse the different catgories and other factors without considering the geographical location\n"
      ]
    },
    {
      "cell_type": "markdown",
      "metadata": {
        "id": "vMHys_6u4MF5",
        "colab_type": "text"
      },
      "source": [
        "<h3>First let's do some work on all types of sales, irrespective of profit or loss."
      ]
    },
    {
      "cell_type": "markdown",
      "metadata": {
        "id": "IgE4hKk2Xbba",
        "colab_type": "text"
      },
      "source": [
        "Finding out the total profit and the average profit per sale by each Sub-Category. This shows that Tables, Bookcases and Supplies had a negative profit."
      ]
    },
    {
      "cell_type": "code",
      "metadata": {
        "id": "qEc6BmIBYHvV",
        "colab_type": "code",
        "colab": {
          "base_uri": "https://localhost:8080/",
          "height": 340
        },
        "outputId": "db0b194b-db2b-4885-9f36-7fccedf5e2b9"
      },
      "source": [
        "data.groupby(['Category','Sub-Category'])['Profit'].sum()"
      ],
      "execution_count": 6,
      "outputs": [
        {
          "output_type": "execute_result",
          "data": {
            "text/plain": [
              "Category         Sub-Category\n",
              "Furniture        Bookcases       -3472.5560\n",
              "                 Chairs          26590.1663\n",
              "                 Furnishings     13059.1436\n",
              "                 Tables         -17725.4811\n",
              "Office Supplies  Appliances      18138.0054\n",
              "                 Art              6527.7870\n",
              "                 Binders         30221.7633\n",
              "                 Envelopes        6964.1767\n",
              "                 Fasteners         949.5182\n",
              "                 Labels           5546.2540\n",
              "                 Paper           34053.5693\n",
              "                 Storage         21278.8264\n",
              "                 Supplies        -1189.0995\n",
              "Technology       Accessories     41936.6357\n",
              "                 Copiers         55617.8249\n",
              "                 Machines         3384.7569\n",
              "                 Phones          44515.7306\n",
              "Name: Profit, dtype: float64"
            ]
          },
          "metadata": {
            "tags": []
          },
          "execution_count": 6
        }
      ]
    },
    {
      "cell_type": "code",
      "metadata": {
        "id": "njx4DQVCPqEj",
        "colab_type": "code",
        "colab": {
          "base_uri": "https://localhost:8080/",
          "height": 340
        },
        "outputId": "85ccb3f8-03ef-40a2-d682-759566d1fbd7"
      },
      "source": [
        "data.groupby(['Category','Sub-Category'])['Profit'].mean()"
      ],
      "execution_count": 7,
      "outputs": [
        {
          "output_type": "execute_result",
          "data": {
            "text/plain": [
              "Category         Sub-Category\n",
              "Furniture        Bookcases       -15.230509\n",
              "                 Chairs           43.095894\n",
              "                 Furnishings      13.645918\n",
              "                 Tables          -55.565771\n",
              "Office Supplies  Appliances       38.922758\n",
              "                 Art               8.200737\n",
              "                 Binders          19.843574\n",
              "                 Envelopes        27.418019\n",
              "                 Fasteners         4.375660\n",
              "                 Labels           15.236962\n",
              "                 Paper            24.856620\n",
              "                 Storage          25.152277\n",
              "                 Supplies         -6.258418\n",
              "Technology       Accessories      54.111788\n",
              "                 Copiers         817.909190\n",
              "                 Machines         29.432669\n",
              "                 Phones           50.073938\n",
              "Name: Profit, dtype: float64"
            ]
          },
          "metadata": {
            "tags": []
          },
          "execution_count": 7
        }
      ]
    },
    {
      "cell_type": "code",
      "metadata": {
        "id": "Go-WDN_sblsc",
        "colab_type": "code",
        "colab": {
          "base_uri": "https://localhost:8080/",
          "height": 533
        },
        "outputId": "a127cd8c-1d0b-4811-e6b1-89eba1ef8ffc"
      },
      "source": [
        "sns.set_style('white')\n",
        "sns.set(rc={'figure.figsize':(15,8.27)})\n",
        "sns.barplot(x='Category', y='Profit', data=data)\n",
        "plt.title('Average Profit per Category')\n",
        "plt.show()"
      ],
      "execution_count": 8,
      "outputs": [
        {
          "output_type": "display_data",
          "data": {
            "image/png": "[encoded data removed]",
            "text/plain": [
              "<Figure size 1080x595.44 with 1 Axes>"
            ]
          },
          "metadata": {
            "tags": []
          }
        }
      ]
    },
    {
      "cell_type": "code",
      "metadata": {
        "id": "MkboMeti5EvQ",
        "colab_type": "code",
        "colab": {
          "base_uri": "https://localhost:8080/",
          "height": 533
        },
        "outputId": "22e24512-1dac-454b-b7d4-1298afe73055"
      },
      "source": [
        "sns.barplot(x='Sub-Category', y='Profit', data=data)\n",
        "plt.title('Average Profit per Sub-Category')\n",
        "plt.show()"
      ],
      "execution_count": 9,
      "outputs": [
        {
          "output_type": "display_data",
          "data": {
            "image/png": "[encoded data removed]",
            "text/plain": [
              "<Figure size 1080x595.44 with 1 Axes>"
            ]
          },
          "metadata": {
            "tags": []
          }
        }
      ]
    },
    {
      "cell_type": "code",
      "metadata": {
        "id": "VOOI2g1M6kj1",
        "colab_type": "code",
        "colab": {
          "base_uri": "https://localhost:8080/",
          "height": 533
        },
        "outputId": "15117b14-b4e0-4a4e-bde8-72815eeabcbc"
      },
      "source": [
        "sns.barplot(x='Category', y='Discount', data=data)\n",
        "plt.title('Avearage Discount per Category')\n",
        "plt.show()"
      ],
      "execution_count": 10,
      "outputs": [
        {
          "output_type": "display_data",
          "data": {
            "image/png": "[encoded data removed]",
            "text/plain": [
              "<Figure size 1080x595.44 with 1 Axes>"
            ]
          },
          "metadata": {
            "tags": []
          }
        }
      ]
    },
    {
      "cell_type": "code",
      "metadata": {
        "id": "absaBlkR5S1u",
        "colab_type": "code",
        "colab": {
          "base_uri": "https://localhost:8080/",
          "height": 533
        },
        "outputId": "7216b50e-bc14-45c1-d066-8202f0adfa2b"
      },
      "source": [
        "sns.barplot(x='Sub-Category', y='Discount', data=data)\n",
        "plt.title('Average Discount per Sub-Category')\n",
        "plt.show()"
      ],
      "execution_count": 11,
      "outputs": [
        {
          "output_type": "display_data",
          "data": {
            "image/png": "[encoded data removed]",
            "text/plain": [
              "<Figure size 1080x595.44 with 1 Axes>"
            ]
          },
          "metadata": {
            "tags": []
          }
        }
      ]
    },
    {
      "cell_type": "markdown",
      "metadata": {
        "id": "S64Ay7H38p52",
        "colab_type": "text"
      },
      "source": [
        "<h3>Now, let's analyze only the data of sales that resulted in a loss."
      ]
    },
    {
      "cell_type": "markdown",
      "metadata": {
        "id": "PdzTL1FOUm1_",
        "colab_type": "text"
      },
      "source": [
        "Creating a DataFrame where the profit of a sale fell in the negative or no profit. We can see that 1936 products were sold at a loss. That is 1936 of the total 9994 sales recorded, i.e, nearly 20% of all sales occured at a loss."
      ]
    },
    {
      "cell_type": "code",
      "metadata": {
        "id": "RRcldX5o00_t",
        "colab_type": "code",
        "colab": {
          "base_uri": "https://localhost:8080/",
          "height": 34
        },
        "outputId": "3a6e2cfa-6d46-41f6-d49c-236bc589e69d"
      },
      "source": [
        "data_loss = data[data['Profit']<=0]\n",
        "data_loss.shape"
      ],
      "execution_count": 12,
      "outputs": [
        {
          "output_type": "execute_result",
          "data": {
            "text/plain": [
              "(1936, 13)"
            ]
          },
          "metadata": {
            "tags": []
          },
          "execution_count": 12
        }
      ]
    },
    {
      "cell_type": "code",
      "metadata": {
        "id": "RN3jCrqH27cI",
        "colab_type": "code",
        "colab": {
          "base_uri": "https://localhost:8080/",
          "height": 326
        },
        "outputId": "272590f4-fd9f-4752-fde5-89f721383757"
      },
      "source": [
        "data_loss.head()"
      ],
      "execution_count": 13,
      "outputs": [
        {
          "output_type": "execute_result",
          "data": {
            "text/html": [
              "<div>\n",
              "<style scoped>\n",
              "    .dataframe tbody tr th:only-of-type {\n",
              "        vertical-align: middle;\n",
              "    }\n",
              "\n",
              "    .dataframe tbody tr th {\n",
              "        vertical-align: top;\n",
              "    }\n",
              "\n",
              "    .dataframe thead th {\n",
              "        text-align: right;\n",
              "    }\n",
              "</style>\n",
              "<table border=\"1\" class=\"dataframe\">\n",
              "  <thead>\n",
              "    <tr style=\"text-align: right;\">\n",
              "      <th></th>\n",
              "      <th>Ship Mode</th>\n",
              "      <th>Segment</th>\n",
              "      <th>Country</th>\n",
              "      <th>City</th>\n",
              "      <th>State</th>\n",
              "      <th>Postal Code</th>\n",
              "      <th>Region</th>\n",
              "      <th>Category</th>\n",
              "      <th>Sub-Category</th>\n",
              "      <th>Sales</th>\n",
              "      <th>Quantity</th>\n",
              "      <th>Discount</th>\n",
              "      <th>Profit</th>\n",
              "    </tr>\n",
              "  </thead>\n",
              "  <tbody>\n",
              "    <tr>\n",
              "      <th>3</th>\n",
              "      <td>Standard Class</td>\n",
              "      <td>Consumer</td>\n",
              "      <td>United States</td>\n",
              "      <td>Fort Lauderdale</td>\n",
              "      <td>Florida</td>\n",
              "      <td>33311</td>\n",
              "      <td>South</td>\n",
              "      <td>Furniture</td>\n",
              "      <td>Tables</td>\n",
              "      <td>957.5775</td>\n",
              "      <td>5</td>\n",
              "      <td>0.45</td>\n",
              "      <td>-383.0310</td>\n",
              "    </tr>\n",
              "    <tr>\n",
              "      <th>14</th>\n",
              "      <td>Standard Class</td>\n",
              "      <td>Home Office</td>\n",
              "      <td>United States</td>\n",
              "      <td>Fort Worth</td>\n",
              "      <td>Texas</td>\n",
              "      <td>76106</td>\n",
              "      <td>Central</td>\n",
              "      <td>Office Supplies</td>\n",
              "      <td>Appliances</td>\n",
              "      <td>68.8100</td>\n",
              "      <td>5</td>\n",
              "      <td>0.80</td>\n",
              "      <td>-123.8580</td>\n",
              "    </tr>\n",
              "    <tr>\n",
              "      <th>15</th>\n",
              "      <td>Standard Class</td>\n",
              "      <td>Home Office</td>\n",
              "      <td>United States</td>\n",
              "      <td>Fort Worth</td>\n",
              "      <td>Texas</td>\n",
              "      <td>76106</td>\n",
              "      <td>Central</td>\n",
              "      <td>Office Supplies</td>\n",
              "      <td>Binders</td>\n",
              "      <td>2.5440</td>\n",
              "      <td>3</td>\n",
              "      <td>0.80</td>\n",
              "      <td>-3.8160</td>\n",
              "    </tr>\n",
              "    <tr>\n",
              "      <th>23</th>\n",
              "      <td>Second Class</td>\n",
              "      <td>Consumer</td>\n",
              "      <td>United States</td>\n",
              "      <td>Philadelphia</td>\n",
              "      <td>Pennsylvania</td>\n",
              "      <td>19140</td>\n",
              "      <td>East</td>\n",
              "      <td>Furniture</td>\n",
              "      <td>Chairs</td>\n",
              "      <td>71.3720</td>\n",
              "      <td>2</td>\n",
              "      <td>0.30</td>\n",
              "      <td>-1.0196</td>\n",
              "    </tr>\n",
              "    <tr>\n",
              "      <th>27</th>\n",
              "      <td>Standard Class</td>\n",
              "      <td>Consumer</td>\n",
              "      <td>United States</td>\n",
              "      <td>Philadelphia</td>\n",
              "      <td>Pennsylvania</td>\n",
              "      <td>19140</td>\n",
              "      <td>East</td>\n",
              "      <td>Furniture</td>\n",
              "      <td>Bookcases</td>\n",
              "      <td>3083.4300</td>\n",
              "      <td>7</td>\n",
              "      <td>0.50</td>\n",
              "      <td>-1665.0522</td>\n",
              "    </tr>\n",
              "  </tbody>\n",
              "</table>\n",
              "</div>"
            ],
            "text/plain": [
              "         Ship Mode      Segment        Country  ... Quantity Discount     Profit\n",
              "3   Standard Class     Consumer  United States  ...        5     0.45  -383.0310\n",
              "14  Standard Class  Home Office  United States  ...        5     0.80  -123.8580\n",
              "15  Standard Class  Home Office  United States  ...        3     0.80    -3.8160\n",
              "23    Second Class     Consumer  United States  ...        2     0.30    -1.0196\n",
              "27  Standard Class     Consumer  United States  ...        7     0.50 -1665.0522\n",
              "\n",
              "[5 rows x 13 columns]"
            ]
          },
          "metadata": {
            "tags": []
          },
          "execution_count": 13
        }
      ]
    },
    {
      "cell_type": "markdown",
      "metadata": {
        "id": "5tvkqeEjVZoE",
        "colab_type": "text"
      },
      "source": [
        "Almost all products that we sold at loss had discounts on them."
      ]
    },
    {
      "cell_type": "code",
      "metadata": {
        "id": "r4jkVTkGJW9l",
        "colab_type": "code",
        "colab": {
          "base_uri": "https://localhost:8080/",
          "height": 34
        },
        "outputId": "09ddb50c-760a-428e-f943-b745e2b4a1e8"
      },
      "source": [
        "data_loss[data_loss['Discount'] >0].shape"
      ],
      "execution_count": 14,
      "outputs": [
        {
          "output_type": "execute_result",
          "data": {
            "text/plain": [
              "(1906, 13)"
            ]
          },
          "metadata": {
            "tags": []
          },
          "execution_count": 14
        }
      ]
    },
    {
      "cell_type": "markdown",
      "metadata": {
        "id": "qUDKrHFYVtbr",
        "colab_type": "text"
      },
      "source": [
        "Consumer segment accounted for more than 50% of the loss occured."
      ]
    },
    {
      "cell_type": "code",
      "metadata": {
        "id": "HFonzWEx3Fym",
        "colab_type": "code",
        "colab": {
          "base_uri": "https://localhost:8080/",
          "height": 85
        },
        "outputId": "d8f41c22-1a23-4790-ef66-4a821acc6332"
      },
      "source": [
        "data_loss['Segment'].value_counts()"
      ],
      "execution_count": 15,
      "outputs": [
        {
          "output_type": "execute_result",
          "data": {
            "text/plain": [
              "Consumer       1038\n",
              "Corporate       573\n",
              "Home Office     325\n",
              "Name: Segment, dtype: int64"
            ]
          },
          "metadata": {
            "tags": []
          },
          "execution_count": 15
        }
      ]
    },
    {
      "cell_type": "markdown",
      "metadata": {
        "id": "x_o1X6PKWGCs",
        "colab_type": "text"
      },
      "source": [
        ""
      ]
    },
    {
      "cell_type": "markdown",
      "metadata": {
        "id": "4etxQEQgWZ4P",
        "colab_type": "text"
      },
      "source": [
        "Analyzing the shipping method chose thorughtout each segment."
      ]
    },
    {
      "cell_type": "code",
      "metadata": {
        "id": "i5O0zjQ33ofT",
        "colab_type": "code",
        "colab": {
          "base_uri": "https://localhost:8080/",
          "height": 255
        },
        "outputId": "dd132ab3-a9df-4ed0-f717-3d48ba658904"
      },
      "source": [
        "data_loss.groupby('Segment')['Ship Mode'].value_counts()"
      ],
      "execution_count": 16,
      "outputs": [
        {
          "output_type": "execute_result",
          "data": {
            "text/plain": [
              "Segment      Ship Mode     \n",
              "Consumer     Standard Class    651\n",
              "             Second Class      178\n",
              "             First Class       149\n",
              "             Same Day           60\n",
              "Corporate    Standard Class    365\n",
              "             Second Class       96\n",
              "             First Class        91\n",
              "             Same Day           21\n",
              "Home Office  Standard Class    203\n",
              "             First Class        63\n",
              "             Second Class       41\n",
              "             Same Day           18\n",
              "Name: Ship Mode, dtype: int64"
            ]
          },
          "metadata": {
            "tags": []
          },
          "execution_count": 16
        }
      ]
    },
    {
      "cell_type": "code",
      "metadata": {
        "id": "YoU_IN1NWloh",
        "colab_type": "code",
        "colab": {
          "base_uri": "https://localhost:8080/",
          "height": 533
        },
        "outputId": "ee6d3d3a-912c-4541-901b-d79324d4353a"
      },
      "source": [
        "sns.countplot(x='Segment', hue='Ship Mode',data=data_loss)\n",
        "plt.title('Shipping Mode by Segment')\n",
        "plt.show()"
      ],
      "execution_count": 17,
      "outputs": [
        {
          "output_type": "display_data",
          "data": {
            "image/png": "[encoded data removed]",
            "text/plain": [
              "<Figure size 1080x595.44 with 1 Axes>"
            ]
          },
          "metadata": {
            "tags": []
          }
        }
      ]
    },
    {
      "cell_type": "markdown",
      "metadata": {
        "id": "9laf0vNDW32E",
        "colab_type": "text"
      },
      "source": [
        "From the following graph, we can see that the consumer segment who opted for same day delivery caused the most loss, but given the large variation shown by the line, this was probably a one-off."
      ]
    },
    {
      "cell_type": "code",
      "metadata": {
        "id": "bcWYs03F34rv",
        "colab_type": "code",
        "colab": {
          "base_uri": "https://localhost:8080/",
          "height": 533
        },
        "outputId": "6fb2d831-25e0-43d6-a5dd-4d3244b2633d"
      },
      "source": [
        "sns.barplot(data=data_loss, x='Segment',y='Profit', hue='Ship Mode')\n",
        "plt.title('Average Loss per sale amomg different Shipping Mode by Segment ')\n",
        "plt.show()"
      ],
      "execution_count": 18,
      "outputs": [
        {
          "output_type": "display_data",
          "data": {
            "image/png": "[encoded data removed]",
            "text/plain": [
              "<Figure size 1080x595.44 with 1 Axes>"
            ]
          },
          "metadata": {
            "tags": []
          }
        }
      ]
    },
    {
      "cell_type": "markdown",
      "metadata": {
        "id": "UyDmJRI_Y2oN",
        "colab_type": "text"
      },
      "source": [
        "Identifying losses by each Sub-Category shows that selling of Bookcases, Tables, Appliances and Machinery causes at discounts causes huge loss to the supermarket chain."
      ]
    },
    {
      "cell_type": "code",
      "metadata": {
        "id": "doyUYfxmJuWV",
        "colab_type": "code",
        "colab": {
          "base_uri": "https://localhost:8080/",
          "height": 255
        },
        "outputId": "2b4395e1-2d44-48ac-8ccf-9263528e8a54"
      },
      "source": [
        "data_loss[data_loss['Discount'] >0].groupby(['Category','Sub-Category'])['Profit'].sum()"
      ],
      "execution_count": 19,
      "outputs": [
        {
          "output_type": "execute_result",
          "data": {
            "text/plain": [
              "Category         Sub-Category\n",
              "Furniture        Bookcases      -12152.2060\n",
              "                 Chairs          -9880.8413\n",
              "                 Furnishings     -6490.9134\n",
              "                 Tables         -32412.1483\n",
              "Office Supplies  Appliances      -8629.6412\n",
              "                 Binders        -38510.4964\n",
              "                 Fasteners         -33.1952\n",
              "                 Storage         -6426.3038\n",
              "                 Supplies        -3015.6219\n",
              "Technology       Accessories      -930.6265\n",
              "                 Machines       -30118.6682\n",
              "                 Phones          -7530.6235\n",
              "Name: Profit, dtype: float64"
            ]
          },
          "metadata": {
            "tags": []
          },
          "execution_count": 19
        }
      ]
    },
    {
      "cell_type": "code",
      "metadata": {
        "id": "N9GJ3VuxPis4",
        "colab_type": "code",
        "colab": {
          "base_uri": "https://localhost:8080/",
          "height": 255
        },
        "outputId": "62056c68-b864-4854-e15f-c826f506f8a2"
      },
      "source": [
        "data_loss[data_loss['Discount'] >0].groupby(['Category','Sub-Category'])['Profit'].mean()"
      ],
      "execution_count": 20,
      "outputs": [
        {
          "output_type": "execute_result",
          "data": {
            "text/plain": [
              "Category         Sub-Category\n",
              "Furniture        Bookcases      -109.479333\n",
              "                 Chairs          -38.748397\n",
              "                 Furnishings     -36.880190\n",
              "                 Tables         -158.108040\n",
              "Office Supplies  Appliances     -128.800615\n",
              "                 Binders         -62.822996\n",
              "                 Fasteners        -2.766267\n",
              "                 Storage         -39.668542\n",
              "                 Supplies        -91.382482\n",
              "Technology       Accessories     -10.115505\n",
              "                 Machines       -684.515186\n",
              "                 Phones          -55.372232\n",
              "Name: Profit, dtype: float64"
            ]
          },
          "metadata": {
            "tags": []
          },
          "execution_count": 20
        }
      ]
    },
    {
      "cell_type": "markdown",
      "metadata": {
        "id": "Nunxw7dZbY8O",
        "colab_type": "text"
      },
      "source": [
        "Visualizing the relation among categories, their loss, and overall profit"
      ]
    },
    {
      "cell_type": "code",
      "metadata": {
        "id": "JwgUVG1TOYv5",
        "colab_type": "code",
        "colab": {
          "base_uri": "https://localhost:8080/",
          "height": 533
        },
        "outputId": "c2beeaaf-b40b-4cf0-c87d-8dbaf434a8e4"
      },
      "source": [
        "sns.barplot(x='Category', y='Profit', data=data_loss)\n",
        "plt.title('Average Loss per sale by Category')\n",
        "plt.show()"
      ],
      "execution_count": 21,
      "outputs": [
        {
          "output_type": "display_data",
          "data": {
            "image/png": "[encoded data removed]",
            "text/plain": [
              "<Figure size 1080x595.44 with 1 Axes>"
            ]
          },
          "metadata": {
            "tags": []
          }
        }
      ]
    },
    {
      "cell_type": "markdown",
      "metadata": {
        "id": "6tQXbN9vcVFz",
        "colab_type": "text"
      },
      "source": [
        "A blunder of sale that cost the company nearly 7000$ loss. This probably the reason why the Machines sub category shows a huge loss in our analysis."
      ]
    },
    {
      "cell_type": "code",
      "metadata": {
        "id": "gk6eC1e1OJTO",
        "colab_type": "code",
        "colab": {
          "base_uri": "https://localhost:8080/",
          "height": 134
        },
        "outputId": "4d445c96-c8a0-491d-ab12-45ab111430cd"
      },
      "source": [
        "data[data['Profit']==min(data['Profit'])]"
      ],
      "execution_count": 22,
      "outputs": [
        {
          "output_type": "execute_result",
          "data": {
            "text/html": [
              "<div>\n",
              "<style scoped>\n",
              "    .dataframe tbody tr th:only-of-type {\n",
              "        vertical-align: middle;\n",
              "    }\n",
              "\n",
              "    .dataframe tbody tr th {\n",
              "        vertical-align: top;\n",
              "    }\n",
              "\n",
              "    .dataframe thead th {\n",
              "        text-align: right;\n",
              "    }\n",
              "</style>\n",
              "<table border=\"1\" class=\"dataframe\">\n",
              "  <thead>\n",
              "    <tr style=\"text-align: right;\">\n",
              "      <th></th>\n",
              "      <th>Ship Mode</th>\n",
              "      <th>Segment</th>\n",
              "      <th>Country</th>\n",
              "      <th>City</th>\n",
              "      <th>State</th>\n",
              "      <th>Postal Code</th>\n",
              "      <th>Region</th>\n",
              "      <th>Category</th>\n",
              "      <th>Sub-Category</th>\n",
              "      <th>Sales</th>\n",
              "      <th>Quantity</th>\n",
              "      <th>Discount</th>\n",
              "      <th>Profit</th>\n",
              "    </tr>\n",
              "  </thead>\n",
              "  <tbody>\n",
              "    <tr>\n",
              "      <th>7772</th>\n",
              "      <td>Standard Class</td>\n",
              "      <td>Consumer</td>\n",
              "      <td>United States</td>\n",
              "      <td>Lancaster</td>\n",
              "      <td>Ohio</td>\n",
              "      <td>43130</td>\n",
              "      <td>East</td>\n",
              "      <td>Technology</td>\n",
              "      <td>Machines</td>\n",
              "      <td>4499.985</td>\n",
              "      <td>5</td>\n",
              "      <td>0.7</td>\n",
              "      <td>-6599.978</td>\n",
              "    </tr>\n",
              "  </tbody>\n",
              "</table>\n",
              "</div>"
            ],
            "text/plain": [
              "           Ship Mode   Segment        Country  ... Quantity Discount    Profit\n",
              "7772  Standard Class  Consumer  United States  ...        5      0.7 -6599.978\n",
              "\n",
              "[1 rows x 13 columns]"
            ]
          },
          "metadata": {
            "tags": []
          },
          "execution_count": 22
        }
      ]
    },
    {
      "cell_type": "markdown",
      "metadata": {
        "id": "Ja-8URA3b9c6",
        "colab_type": "text"
      },
      "source": [
        "Average discounts and loss of different sub categories that resulted in a loss."
      ]
    },
    {
      "cell_type": "code",
      "metadata": {
        "id": "Zx-0ISzVNmLn",
        "colab_type": "code",
        "colab": {
          "base_uri": "https://localhost:8080/",
          "height": 533
        },
        "outputId": "2ded48ab-a2b7-4a33-f5b6-e617d0f1299e"
      },
      "source": [
        "sns.barplot(x='Sub-Category', y='Discount', data=data_loss)\n",
        "plt.title('Average Discount for sale in each Sub-Category')\n",
        "plt.show()"
      ],
      "execution_count": 23,
      "outputs": [
        {
          "output_type": "display_data",
          "data": {
            "image/png": "[encoded data removed]",
            "text/plain": [
              "<Figure size 1080x595.44 with 1 Axes>"
            ]
          },
          "metadata": {
            "tags": []
          }
        }
      ]
    },
    {
      "cell_type": "code",
      "metadata": {
        "id": "j1u-zXeuN-HS",
        "colab_type": "code",
        "colab": {
          "base_uri": "https://localhost:8080/",
          "height": 533
        },
        "outputId": "1354e8a7-a423-4ca9-a53d-c260cbdd83ef"
      },
      "source": [
        "sns.barplot(x='Sub-Category', y='Profit', data=data_loss)\n",
        "plt.title('Average Loss per sale in Sub-Category')\n",
        "plt.show()"
      ],
      "execution_count": 24,
      "outputs": [
        {
          "output_type": "display_data",
          "data": {
            "image/png": "[encoded data removed]",
            "text/plain": [
              "<Figure size 1080x595.44 with 1 Axes>"
            ]
          },
          "metadata": {
            "tags": []
          }
        }
      ]
    },
    {
      "cell_type": "markdown",
      "metadata": {
        "id": "BCtb4FH8kDQf",
        "colab_type": "text"
      },
      "source": [
        "#Now, let's consider the impact of the location of the stores on profit"
      ]
    },
    {
      "cell_type": "markdown",
      "metadata": {
        "id": "JOhyFGBbQ0fn",
        "colab_type": "text"
      },
      "source": [
        "Finding the profit gained by the supermarket chain throughout different regions of the country. "
      ]
    },
    {
      "cell_type": "code",
      "metadata": {
        "id": "UfC7R5I4xyYn",
        "colab_type": "code",
        "colab": {
          "base_uri": "https://localhost:8080/",
          "height": 119
        },
        "outputId": "e2b7ea43-4d91-45fe-c7b4-837006e695ec"
      },
      "source": [
        "data.groupby('Region')['Profit'].sum()"
      ],
      "execution_count": 25,
      "outputs": [
        {
          "output_type": "execute_result",
          "data": {
            "text/plain": [
              "Region\n",
              "Central     39706.3625\n",
              "East        91522.7800\n",
              "South       46749.4303\n",
              "West       108418.4489\n",
              "Name: Profit, dtype: float64"
            ]
          },
          "metadata": {
            "tags": []
          },
          "execution_count": 25
        }
      ]
    },
    {
      "cell_type": "code",
      "metadata": {
        "id": "gGEzJRTVQ_P3",
        "colab_type": "code",
        "colab": {
          "base_uri": "https://localhost:8080/",
          "height": 533
        },
        "outputId": "b9193607-fb5b-41b3-cba1-2a640e67e0af"
      },
      "source": [
        "sns.barplot(x='Region', y='Profit', data=data)\n",
        "plt.title('Average Profit in sale per Region')\n",
        "plt.show()"
      ],
      "execution_count": 26,
      "outputs": [
        {
          "output_type": "display_data",
          "data": {
            "image/png": "[encoded data removed]",
            "text/plain": [
              "<Figure size 1080x595.44 with 1 Axes>"
            ]
          },
          "metadata": {
            "tags": []
          }
        }
      ]
    },
    {
      "cell_type": "markdown",
      "metadata": {
        "id": "2hgSm9PMR3T4",
        "colab_type": "text"
      },
      "source": [
        "The graph shows the average profit per sale in a region. Although all the regions show a positive profit margin, the central region of the country show a really small margin of profit per sale."
      ]
    },
    {
      "cell_type": "markdown",
      "metadata": {
        "id": "2cjCHHicS4pu",
        "colab_type": "text"
      },
      "source": [
        "Analyzing the total profit provided by each city condensed into their respective regions, we can see quite some states  where the stores are really at a loss. Namely Illinois, Texas, Ohio, Pennsylvania, Florida, North Calorina, Arizona, Colorado, Oregon. "
      ]
    },
    {
      "cell_type": "code",
      "metadata": {
        "id": "WZhAkBSLyDMZ",
        "colab_type": "code",
        "colab": {
          "base_uri": "https://localhost:8080/",
          "height": 884
        },
        "outputId": "585179ce-0f0b-4778-97b5-8aff058d49d1"
      },
      "source": [
        "data.groupby(['Region','State'])['Profit'].sum()"
      ],
      "execution_count": 27,
      "outputs": [
        {
          "output_type": "execute_result",
          "data": {
            "text/plain": [
              "Region   State               \n",
              "Central  Illinois               -12607.8870\n",
              "         Indiana                 18382.9363\n",
              "         Iowa                     1183.8119\n",
              "         Kansas                    836.4435\n",
              "         Michigan                24463.1876\n",
              "         Minnesota               10823.1874\n",
              "         Missouri                 6436.2105\n",
              "         Nebraska                 2037.0942\n",
              "         North Dakota              230.1497\n",
              "         Oklahoma                 4853.9560\n",
              "         South Dakota              394.8283\n",
              "         Texas                  -25729.3563\n",
              "         Wisconsin                8401.8004\n",
              "East     Connecticut              3511.4918\n",
              "         Delaware                 9977.3748\n",
              "         District of Columbia     1059.5893\n",
              "         Maine                     454.4862\n",
              "         Maryland                 7031.1788\n",
              "         Massachusetts            6785.5016\n",
              "         New Hampshire            1706.5028\n",
              "         New Jersey               9772.9138\n",
              "         New York                74038.5486\n",
              "         Ohio                   -16971.3766\n",
              "         Pennsylvania           -15559.9603\n",
              "         Rhode Island             7285.6293\n",
              "         Vermont                  2244.9783\n",
              "         West Virginia             185.9216\n",
              "South    Alabama                  5786.8253\n",
              "         Arkansas                 4008.6871\n",
              "         Florida                 -3399.3017\n",
              "         Georgia                 16250.0433\n",
              "         Kentucky                11199.6966\n",
              "         Louisiana                2196.1023\n",
              "         Mississippi              3172.9762\n",
              "         North Carolina          -7490.9122\n",
              "         South Carolina           1769.0566\n",
              "         Tennessee               -5341.6936\n",
              "         Virginia                18597.9504\n",
              "West     Arizona                 -3427.9246\n",
              "         California              76381.3871\n",
              "         Colorado                -6527.8579\n",
              "         Idaho                     826.7231\n",
              "         Montana                  1833.3285\n",
              "         Nevada                   3316.7659\n",
              "         New Mexico               1157.1161\n",
              "         Oregon                  -1190.4705\n",
              "         Utah                     2546.5335\n",
              "         Washington              33402.6517\n",
              "         Wyoming                   100.1960\n",
              "Name: Profit, dtype: float64"
            ]
          },
          "metadata": {
            "tags": []
          },
          "execution_count": 27
        }
      ]
    },
    {
      "cell_type": "markdown",
      "metadata": {
        "id": "pbYCXnJJTXKB",
        "colab_type": "text"
      },
      "source": [
        "Calculating the average profit per sale in the states, we can see almost the same states with negative profit margins. Namely Illinois, Texas, Ohio, Pennsylvania, Florida, North Calorina, Tennessee, Arizona, Colorado, Oregon. "
      ]
    },
    {
      "cell_type": "code",
      "metadata": {
        "id": "rzSB972LyjiS",
        "colab_type": "code",
        "colab": {
          "base_uri": "https://localhost:8080/",
          "height": 884
        },
        "outputId": "5218283d-b52b-46d5-ffc9-992b049d850b"
      },
      "source": [
        "p_per_c = data.groupby(['Region','State'])['Profit'].mean()\n",
        "p_per_c"
      ],
      "execution_count": 28,
      "outputs": [
        {
          "output_type": "execute_result",
          "data": {
            "text/plain": [
              "Region   State               \n",
              "Central  Illinois                -25.625787\n",
              "         Indiana                 123.375411\n",
              "         Iowa                     39.460397\n",
              "         Kansas                   34.851813\n",
              "         Michigan                 95.934069\n",
              "         Minnesota               121.608847\n",
              "         Missouri                 97.518341\n",
              "         Nebraska                 53.607742\n",
              "         North Dakota             32.878529\n",
              "         Oklahoma                 73.544788\n",
              "         South Dakota             32.902358\n",
              "         Texas                   -26.121174\n",
              "         Wisconsin                76.380004\n",
              "East     Connecticut              42.823071\n",
              "         Delaware                103.930988\n",
              "         District of Columbia    105.958930\n",
              "         Maine                    56.810775\n",
              "         Maryland                 66.963608\n",
              "         Massachusetts            50.262975\n",
              "         New Hampshire            63.203807\n",
              "         New Jersey               75.176260\n",
              "         New York                 65.637011\n",
              "         Ohio                    -36.186304\n",
              "         Pennsylvania            -26.507598\n",
              "         Rhode Island            130.100523\n",
              "         Vermont                 204.088936\n",
              "         West Virginia            46.480400\n",
              "South    Alabama                  94.865989\n",
              "         Arkansas                 66.811452\n",
              "         Florida                  -8.875461\n",
              "         Georgia                  88.315453\n",
              "         Kentucky                 80.573357\n",
              "         Louisiana                52.288150\n",
              "         Mississippi              59.867475\n",
              "         North Carolina          -30.083985\n",
              "         South Carolina           42.120395\n",
              "         Tennessee               -29.189583\n",
              "         Virginia                 83.026564\n",
              "West     Arizona                 -15.303235\n",
              "         California               38.171608\n",
              "         Colorado                -35.867351\n",
              "         Idaho                    39.367767\n",
              "         Montana                 122.221900\n",
              "         Nevada                   85.045279\n",
              "         New Mexico               31.273408\n",
              "         Oregon                   -9.600569\n",
              "         Utah                     48.047802\n",
              "         Washington               66.013146\n",
              "         Wyoming                 100.196000\n",
              "Name: Profit, dtype: float64"
            ]
          },
          "metadata": {
            "tags": []
          },
          "execution_count": 28
        }
      ]
    },
    {
      "cell_type": "code",
      "metadata": {
        "id": "j-vwC4kKmm0h",
        "colab_type": "code",
        "colab": {
          "base_uri": "https://localhost:8080/",
          "height": 450
        },
        "outputId": "c97e80ea-96fe-45b3-f66c-5b220dddae26"
      },
      "source": [
        "city = pd.DataFrame(data_loss.groupby(['Region','State'])['City'].value_counts())\n",
        "city.columns = ['Count']\n",
        "city"
      ],
      "execution_count": 29,
      "outputs": [
        {
          "output_type": "execute_result",
          "data": {
            "text/html": [
              "<div>\n",
              "<style scoped>\n",
              "    .dataframe tbody tr th:only-of-type {\n",
              "        vertical-align: middle;\n",
              "    }\n",
              "\n",
              "    .dataframe tbody tr th {\n",
              "        vertical-align: top;\n",
              "    }\n",
              "\n",
              "    .dataframe thead th {\n",
              "        text-align: right;\n",
              "    }\n",
              "</style>\n",
              "<table border=\"1\" class=\"dataframe\">\n",
              "  <thead>\n",
              "    <tr style=\"text-align: right;\">\n",
              "      <th></th>\n",
              "      <th></th>\n",
              "      <th></th>\n",
              "      <th>Count</th>\n",
              "    </tr>\n",
              "    <tr>\n",
              "      <th>Region</th>\n",
              "      <th>State</th>\n",
              "      <th>City</th>\n",
              "      <th></th>\n",
              "    </tr>\n",
              "  </thead>\n",
              "  <tbody>\n",
              "    <tr>\n",
              "      <th rowspan=\"5\" valign=\"top\">Central</th>\n",
              "      <th rowspan=\"5\" valign=\"top\">Illinois</th>\n",
              "      <th>Chicago</th>\n",
              "      <td>157</td>\n",
              "    </tr>\n",
              "    <tr>\n",
              "      <th>Aurora</th>\n",
              "      <td>21</td>\n",
              "    </tr>\n",
              "    <tr>\n",
              "      <th>Decatur</th>\n",
              "      <td>9</td>\n",
              "    </tr>\n",
              "    <tr>\n",
              "      <th>Peoria</th>\n",
              "      <td>7</td>\n",
              "    </tr>\n",
              "    <tr>\n",
              "      <th>Rockford</th>\n",
              "      <td>7</td>\n",
              "    </tr>\n",
              "    <tr>\n",
              "      <th>...</th>\n",
              "      <th>...</th>\n",
              "      <th>...</th>\n",
              "      <td>...</td>\n",
              "    </tr>\n",
              "    <tr>\n",
              "      <th rowspan=\"5\" valign=\"top\">West</th>\n",
              "      <th rowspan=\"3\" valign=\"top\">Oregon</th>\n",
              "      <th>Gresham</th>\n",
              "      <td>2</td>\n",
              "    </tr>\n",
              "    <tr>\n",
              "      <th>Hillsboro</th>\n",
              "      <td>2</td>\n",
              "    </tr>\n",
              "    <tr>\n",
              "      <th>Medford</th>\n",
              "      <td>1</td>\n",
              "    </tr>\n",
              "    <tr>\n",
              "      <th rowspan=\"2\" valign=\"top\">Washington</th>\n",
              "      <th>Seattle</th>\n",
              "      <td>22</td>\n",
              "    </tr>\n",
              "    <tr>\n",
              "      <th>Des Moines</th>\n",
              "      <td>1</td>\n",
              "    </tr>\n",
              "  </tbody>\n",
              "</table>\n",
              "<p>256 rows × 1 columns</p>\n",
              "</div>"
            ],
            "text/plain": [
              "                               Count\n",
              "Region  State      City             \n",
              "Central Illinois   Chicago       157\n",
              "                   Aurora         21\n",
              "                   Decatur         9\n",
              "                   Peoria          7\n",
              "                   Rockford        7\n",
              "...                              ...\n",
              "West    Oregon     Gresham         2\n",
              "                   Hillsboro       2\n",
              "                   Medford         1\n",
              "        Washington Seattle        22\n",
              "                   Des Moines      1\n",
              "\n",
              "[256 rows x 1 columns]"
            ]
          },
          "metadata": {
            "tags": []
          },
          "execution_count": 29
        }
      ]
    },
    {
      "cell_type": "markdown",
      "metadata": {
        "id": "hBiTS5RoocPX",
        "colab_type": "text"
      },
      "source": [
        "Finding the cities where the most sales were recorded that resulted in a loss."
      ]
    },
    {
      "cell_type": "code",
      "metadata": {
        "id": "0u6WA9R6n9SD",
        "colab_type": "code",
        "colab": {
          "base_uri": "https://localhost:8080/",
          "height": 391
        },
        "outputId": "84c55056-3a7e-47a4-f868-d5e5f61f21c7"
      },
      "source": [
        "city['Count'].sort_values(ascending=False).head(20)"
      ],
      "execution_count": 30,
      "outputs": [
        {
          "output_type": "execute_result",
          "data": {
            "text/plain": [
              "Region   State         City         \n",
              "East     Pennsylvania  Philadelphia     254\n",
              "Central  Texas         Houston          187\n",
              "         Illinois      Chicago          157\n",
              "         Texas         Dallas            73\n",
              "East     Ohio          Columbus          51\n",
              "         New York      New York City     47\n",
              "West     California    Los Angeles       42\n",
              "Central  Texas         San Antonio       34\n",
              "West     Arizona       Phoenix           28\n",
              "         California    San Francisco     28\n",
              "South    Florida       Jacksonville      27\n",
              "                       Miami             22\n",
              "West     Washington    Seattle           22\n",
              "Central  Illinois      Aurora            21\n",
              "East     Ohio          Cleveland         21\n",
              "                       Springfield       20\n",
              "Central  Texas         Austin            19\n",
              "                       Arlington         17\n",
              "                       Huntsville        17\n",
              "South    Florida       Tampa             16\n",
              "Name: Count, dtype: int64"
            ]
          },
          "metadata": {
            "tags": []
          },
          "execution_count": 30
        }
      ]
    },
    {
      "cell_type": "code",
      "metadata": {
        "id": "uLMXoxTSo6ce",
        "colab_type": "code",
        "colab": {
          "base_uri": "https://localhost:8080/",
          "height": 235
        },
        "outputId": "515307d5-e69c-4c61-839a-0d77de3fbb7e"
      },
      "source": [
        "city['Loss'] = pd.Series(data_loss.groupby(['Region','State', 'City'])['Profit'].sum(), index=city.index)\n",
        "city.head()"
      ],
      "execution_count": 31,
      "outputs": [
        {
          "output_type": "execute_result",
          "data": {
            "text/html": [
              "<div>\n",
              "<style scoped>\n",
              "    .dataframe tbody tr th:only-of-type {\n",
              "        vertical-align: middle;\n",
              "    }\n",
              "\n",
              "    .dataframe tbody tr th {\n",
              "        vertical-align: top;\n",
              "    }\n",
              "\n",
              "    .dataframe thead th {\n",
              "        text-align: right;\n",
              "    }\n",
              "</style>\n",
              "<table border=\"1\" class=\"dataframe\">\n",
              "  <thead>\n",
              "    <tr style=\"text-align: right;\">\n",
              "      <th></th>\n",
              "      <th></th>\n",
              "      <th></th>\n",
              "      <th>Count</th>\n",
              "      <th>Loss</th>\n",
              "    </tr>\n",
              "    <tr>\n",
              "      <th>Region</th>\n",
              "      <th>State</th>\n",
              "      <th>City</th>\n",
              "      <th></th>\n",
              "      <th></th>\n",
              "    </tr>\n",
              "  </thead>\n",
              "  <tbody>\n",
              "    <tr>\n",
              "      <th rowspan=\"5\" valign=\"top\">Central</th>\n",
              "      <th rowspan=\"5\" valign=\"top\">Illinois</th>\n",
              "      <th>Chicago</th>\n",
              "      <td>157</td>\n",
              "      <td>-11120.6271</td>\n",
              "    </tr>\n",
              "    <tr>\n",
              "      <th>Aurora</th>\n",
              "      <td>21</td>\n",
              "      <td>-2359.8917</td>\n",
              "    </tr>\n",
              "    <tr>\n",
              "      <th>Decatur</th>\n",
              "      <td>9</td>\n",
              "      <td>-528.8800</td>\n",
              "    </tr>\n",
              "    <tr>\n",
              "      <th>Peoria</th>\n",
              "      <td>7</td>\n",
              "      <td>-72.7587</td>\n",
              "    </tr>\n",
              "    <tr>\n",
              "      <th>Rockford</th>\n",
              "      <td>7</td>\n",
              "      <td>-1383.9134</td>\n",
              "    </tr>\n",
              "  </tbody>\n",
              "</table>\n",
              "</div>"
            ],
            "text/plain": [
              "                           Count        Loss\n",
              "Region  State    City                       \n",
              "Central Illinois Chicago     157 -11120.6271\n",
              "                 Aurora       21  -2359.8917\n",
              "                 Decatur       9   -528.8800\n",
              "                 Peoria        7    -72.7587\n",
              "                 Rockford      7  -1383.9134"
            ]
          },
          "metadata": {
            "tags": []
          },
          "execution_count": 31
        }
      ]
    },
    {
      "cell_type": "markdown",
      "metadata": {
        "id": "u-iToaRXqr20",
        "colab_type": "text"
      },
      "source": [
        "Cumulative loss per city in descending order."
      ]
    },
    {
      "cell_type": "code",
      "metadata": {
        "id": "dSjER0P1p0Xp",
        "colab_type": "code",
        "colab": {
          "base_uri": "https://localhost:8080/",
          "height": 391
        },
        "outputId": "fd6785dd-846f-4f68-8b96-f9c67c53fddb"
      },
      "source": [
        "city['Loss'].sort_values().head(20)"
      ],
      "execution_count": 32,
      "outputs": [
        {
          "output_type": "execute_result",
          "data": {
            "text/plain": [
              "Region   State           City         \n",
              "East     Pennsylvania    Philadelphia    -19590.7411\n",
              "Central  Texas           Houston         -14785.3668\n",
              "         Illinois        Chicago         -11120.6271\n",
              "         Texas           San Antonio      -7831.0254\n",
              "East     Ohio            Lancaster        -7378.6382\n",
              "South    North Carolina  Burlington       -5999.3318\n",
              "Central  Texas           Dallas           -4208.5218\n",
              "East     New York        New York City    -3966.0226\n",
              "West     Colorado        Louisville       -3694.1045\n",
              "         Arizona         Phoenix          -3613.6298\n",
              "South    Florida         Jacksonville     -3484.1650\n",
              "East     Ohio            Newark           -3176.8002\n",
              "Central  Illinois        Aurora           -2359.8917\n",
              "East     Ohio            Columbus         -2017.8867\n",
              "South    Florida         Miami            -1885.6832\n",
              "         North Carolina  Concord          -1862.3124\n",
              "East     Ohio            Springfield      -1778.2514\n",
              "South    North Carolina  Charlotte        -1770.6737\n",
              "         Tennessee       Memphis          -1747.2408\n",
              "West     Oregon          Springfield      -1389.9714\n",
              "Name: Loss, dtype: float64"
            ]
          },
          "metadata": {
            "tags": []
          },
          "execution_count": 32
        }
      ]
    },
    {
      "cell_type": "markdown",
      "metadata": {
        "id": "PHTEPlln2RfB",
        "colab_type": "text"
      },
      "source": [
        "Profit vs Discount shows that an increase in discount percentage also increases the loss suffered."
      ]
    },
    {
      "cell_type": "code",
      "metadata": {
        "id": "zTXnB-tjvdE5",
        "colab_type": "code",
        "colab": {
          "base_uri": "https://localhost:8080/",
          "height": 398
        },
        "outputId": "a7cbfd00-5604-4a3c-ff72-78768c7629f1"
      },
      "source": [
        "sns.catplot(y='Profit', x='Discount', data=data)\n",
        "plt.title('Relationship between Profit and Discount')\n",
        "plt.show()"
      ],
      "execution_count": 33,
      "outputs": [
        {
          "output_type": "display_data",
          "data": {
            "image/png": "[encoded data removed]",
            "text/plain": [
              "<Figure size 360x360 with 1 Axes>"
            ]
          },
          "metadata": {
            "tags": []
          }
        }
      ]
    }
  ]
}